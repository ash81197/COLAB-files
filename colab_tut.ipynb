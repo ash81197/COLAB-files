{
  "nbformat": 4,
  "nbformat_minor": 0,
  "metadata": {
    "colab": {
      "name": "colab_tut.ipynb",
      "provenance": []
    },
    "kernelspec": {
      "name": "python3",
      "display_name": "Python 3"
    },
    "accelerator": "GPU"
  },
  "cells": [
    {
      "cell_type": "code",
      "metadata": {
        "id": "L_xRk2-mgOFY",
        "colab_type": "code",
        "colab": {}
      },
      "source": [
        "from google.colab import drive\n",
        "drive.mount('/content/gdrive')"
      ],
      "execution_count": 0,
      "outputs": []
    },
    {
      "cell_type": "code",
      "metadata": {
        "id": "HZzMbPx3gfm4",
        "colab_type": "code",
        "colab": {}
      },
      "source": [
        "import base64\n",
        "with open('/content/gdrive/My Drive/1.pdf', 'rb') as f: #1.pdf is the name of PDF file uploaded in your google drive\n",
        "    blob = base64.b64encode(f.read())"
      ],
      "execution_count": 0,
      "outputs": []
    },
    {
      "cell_type": "code",
      "metadata": {
        "id": "TEr2X6_hgzpq",
        "colab_type": "code",
        "colab": {}
      },
      "source": [
        "text_file = open('/content/gdrive/My Drive/test_file.txt', \"wb\") #to save the file in your google drive with name test_file.txt\n",
        "text_file.write(blob)\n",
        "text_file.close()"
      ],
      "execution_count": 0,
      "outputs": []
    },
    {
      "cell_type": "code",
      "metadata": {
        "id": "Jyk3iRU5g1ZS",
        "colab_type": "code",
        "colab": {}
      },
      "source": [
        "with open('/content/gdrive/My Drive/test_file.txt', 'r') as f: #reading the test_file.txt present in your google drive\n",
        "    blob=f.read()\n",
        "blob = base64.b64decode(blob)"
      ],
      "execution_count": 0,
      "outputs": []
    },
    {
      "cell_type": "code",
      "metadata": {
        "id": "MN72soRVhd-k",
        "colab_type": "code",
        "colab": {}
      },
      "source": [
        "text_file = open('/content/gdrive/My Drive/result.pdf','wb')   #saving that test_file.txt as a result.pdf file in google drive\n",
        "text_file.write(blob)\n",
        "text_file.close()"
      ],
      "execution_count": 0,
      "outputs": []
    },
    {
      "cell_type": "code",
      "metadata": {
        "id": "4vZyHgBjh58v",
        "colab_type": "code",
        "colab": {}
      },
      "source": [
        ""
      ],
      "execution_count": 0,
      "outputs": []
    }
  ]
}